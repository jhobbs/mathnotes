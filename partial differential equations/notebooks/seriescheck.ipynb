{
 "cells": [
  {
   "cell_type": "code",
   "execution_count": 64,
   "id": "dd335549",
   "metadata": {},
   "outputs": [
    {
     "data": {
      "text/html": [
       "<html><script type=\"math/tex; mode=display\">\\newcommand{\\Bold}[1]{\\mathbf{#1}}\\frac{8 \\, {\\left({\\left(\\pi^{2} n^{2} - 2\\right)} \\left(-1\\right)^{n} + 2\\right)} \\sin\\left(n x\\right)}{\\pi n^{3}}</script></html>"
      ],
      "text/latex": [
       "$$\\newcommand{\\Bold}[1]{\\mathbf{#1}}\\frac{8 \\, {\\left({\\left(\\pi^{2} n^{2} - 2\\right)} \\left(-1\\right)^{n} + 2\\right)} \\sin\\left(n x\\right)}{\\pi n^{3}}$$"
      ],
      "text/plain": [
       "8*((pi^2*n^2 - 2)*(-1)^n + 2)*sin(n*x)/(pi*n^3)"
      ]
     },
     "metadata": {},
     "output_type": "display_data"
    },
    {
     "name": "stdout",
     "output_type": "stream",
     "text": [
      "Terms of the series:\n",
      "Term 1: -8*(pi^2 - 4)*sin(x)/pi\n",
      "Term 2: 4*pi*sin(2*x)\n",
      "Term 3: -8/27*(9*pi^2 - 4)*sin(3*x)/pi\n",
      "Term 4: 2*pi*sin(4*x)\n",
      "Term 5: -8/125*(25*pi^2 - 4)*sin(5*x)/pi\n",
      "Term 6: 4/3*pi*sin(6*x)\n",
      "Term 7: -8/343*(49*pi^2 - 4)*sin(7*x)/pi\n",
      "Term 8: pi*sin(8*x)\n",
      "Term 9: -8/729*(81*pi^2 - 4)*sin(9*x)/pi\n",
      "Term 10: 4/5*pi*sin(10*x)\n"
     ]
    },
    {
     "data": {
      "text/html": [
       "<html><script type=\"math/tex; mode=display\">\\newcommand{\\Bold}[1]{\\mathbf{#1}}\\frac{8 \\, {\\left(\\frac{\\pi^{2} \\left(-1\\right)^{n}}{n} - \\frac{2 \\, {\\left(\\left(-1\\right)^{n} - 1\\right)}}{n^{3}}\\right)} \\sin\\left(n x\\right)}{\\pi}</script></html>"
      ],
      "text/latex": [
       "$$\\newcommand{\\Bold}[1]{\\mathbf{#1}}\\frac{8 \\, {\\left(\\frac{\\pi^{2} \\left(-1\\right)^{n}}{n} - \\frac{2 \\, {\\left(\\left(-1\\right)^{n} - 1\\right)}}{n^{3}}\\right)} \\sin\\left(n x\\right)}{\\pi}$$"
      ],
      "text/plain": [
       "8*(pi^2*(-1)^n/n - 2*((-1)^n - 1)/n^3)*sin(n*x)/pi"
      ]
     },
     "metadata": {},
     "output_type": "display_data"
    },
    {
     "name": "stdout",
     "output_type": "stream",
     "text": [
      "Terms of the series:\n",
      "Term 1: -8*(pi^2 - 4)*sin(x)/pi\n",
      "Term 2: 4*pi*sin(2*x)\n",
      "Term 3: -8/27*(9*pi^2 - 4)*sin(3*x)/pi\n",
      "Term 4: 2*pi*sin(4*x)\n",
      "Term 5: -8/125*(25*pi^2 - 4)*sin(5*x)/pi\n",
      "Term 6: 4/3*pi*sin(6*x)\n",
      "Term 7: -8/343*(49*pi^2 - 4)*sin(7*x)/pi\n",
      "Term 8: pi*sin(8*x)\n",
      "Term 9: -8/729*(81*pi^2 - 4)*sin(9*x)/pi\n",
      "Term 10: 4/5*pi*sin(10*x)\n"
     ]
    }
   ],
   "source": [
    "import sage.all as sg\n",
    "\n",
    "n = sg.var('n')\n",
    "x = sg.var('x')\n",
    "t= sg.var('t')\n",
    "\n",
    "term_formula = (-8 * ((2-pi**2*n**2)*(-1)**n) + 16)/(pi * n**3)*sin(n*x)\n",
    "show(term_formula, hold=True)\n",
    "k = 10\n",
    "\n",
    "print(\"Terms of the series:\")\n",
    "for i in range(1, k+1):\n",
    "    current_term = term_formula.subs(n=i)\n",
    "    print(f'Term {i}: {current_term}')\n",
    "    \n",
    "term_formula2 = 8*(-(1/pi) * ((-(pi)**2 * (-1)**n)/n + (2*(-1)**n - 2)/(n**3)  ) *sin(n*x))\n",
    "\n",
    "show(term_formula2, hold=True)\n",
    "\n",
    "print(\"Terms of the series:\")\n",
    "for i in range(1, k+1):\n",
    "    current_term = term_formula2.subs(n=i)\n",
    "    print(f'Term {i}: {current_term}')\n"
   ]
  },
  {
   "cell_type": "code",
   "execution_count": null,
   "id": "09d90fc7",
   "metadata": {},
   "outputs": [],
   "source": []
  }
 ],
 "metadata": {
  "kernelspec": {
   "display_name": "SageMath 9.5",
   "language": "sage",
   "name": "sagemath"
  },
  "language_info": {
   "codemirror_mode": {
    "name": "ipython",
    "version": 3
   },
   "file_extension": ".py",
   "mimetype": "text/x-python",
   "name": "python",
   "nbconvert_exporter": "python",
   "pygments_lexer": "ipython3",
   "version": "3.10.12"
  }
 },
 "nbformat": 4,
 "nbformat_minor": 5
}
