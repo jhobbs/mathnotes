{
 "cells": [
  {
   "cell_type": "code",
   "execution_count": 1,
   "id": "d751e992",
   "metadata": {},
   "outputs": [
    {
     "name": "stdout",
     "output_type": "stream",
     "text": [
      "The element a + b*sqrt(2) in Z4 is: 3*sqrt2 + 1\n",
      "Example calculations:\n",
      "Element squared: 2*sqrt2 + 3\n"
     ]
    }
   ],
   "source": [
    "# Load Sage\n",
    "import sage.all as sage\n",
    "\n",
    "# Define Z4, the ring of integers modulo 4\n",
    "Z4 = sage.Integers(4)\n",
    "\n",
    "# Define a polynomial ring over Z4 with an indeterminate that will represent sqrt(2)\n",
    "R = sage.PolynomialRing(Z4, 'x')\n",
    "x = R.gen()\n",
    "\n",
    "# Create the extension of Z4 to include sqrt(2), satisfying the equation x^2 - 2 = 0\n",
    "# This creates the ring Z4[x]/(x^2 - 2)\n",
    "sqrt2_extension = R.quotient(x^2 - 2, names=('sqrt2',))\n",
    "sqrt2 = sqrt2_extension.gen()\n",
    "\n",
    "# sqrt2 represents sqrt(2) in this context\n",
    "# Now you can create elements of the form a + b*sqrt(2)\n",
    "a = 1\n",
    "b = 3\n",
    "element = a + b * sqrt2\n",
    "\n",
    "# Show the defined element\n",
    "print(\"The element a + b*sqrt(2) in Z4 is:\", element)\n",
    "print(\"Example calculations:\")\n",
    "print(\"Element squared:\", element^2)\n"
   ]
  },
  {
   "cell_type": "code",
   "execution_count": 8,
   "id": "936e0ce1",
   "metadata": {},
   "outputs": [
    {
     "data": {
      "text/html": [
       "<html><script type=\"math/tex; mode=display\">\\newcommand{\\Bold}[1]{\\mathbf{#1}}\\mathrm{True}</script></html>"
      ],
      "text/latex": [
       "$$\\newcommand{\\Bold}[1]{\\mathbf{#1}}\\mathrm{True}$$"
      ],
      "text/plain": [
       "True"
      ]
     },
     "metadata": {},
     "output_type": "display_data"
    }
   ],
   "source": [
    "a = 1\n",
    "b = 2\n",
    "element = a + b * sqrt2\n",
    "show(element.is_unit())"
   ]
  },
  {
   "cell_type": "code",
   "execution_count": null,
   "id": "b75f199b",
   "metadata": {},
   "outputs": [],
   "source": []
  }
 ],
 "metadata": {
  "kernelspec": {
   "display_name": "SageMath 9.5",
   "language": "sage",
   "name": "sagemath"
  },
  "language_info": {
   "codemirror_mode": {
    "name": "ipython",
    "version": 3
   },
   "file_extension": ".py",
   "mimetype": "text/x-python",
   "name": "python",
   "nbconvert_exporter": "python",
   "pygments_lexer": "ipython3",
   "version": "3.10.12"
  }
 },
 "nbformat": 4,
 "nbformat_minor": 5
}
