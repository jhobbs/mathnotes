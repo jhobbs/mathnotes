{
 "cells": [
  {
   "cell_type": "code",
   "execution_count": 14,
   "id": "66b8fa81",
   "metadata": {},
   "outputs": [
    {
     "data": {
      "text/html": [
       "<html><script type=\"math/tex; mode=display\">\\newcommand{\\Bold}[1]{\\mathbf{#1}}{\\sum_{n=1}^{+\\infty} 2 \\, {\\left(\\frac{{\\left(3 \\, \\pi^{2} n^{2} - 26\\right)} \\left(-1\\right)^{n}}{\\pi^{3} n^{3}} - \\frac{4}{\\pi^{3} n^{3}}\\right)} e^{\\left(-\\pi^{2} \\beta n^{2} t\\right)} \\sin\\left(\\pi n x\\right)}</script></html>"
      ],
      "text/latex": [
       "$$\\newcommand{\\Bold}[1]{\\mathbf{#1}}{\\sum_{n=1}^{+\\infty} 2 \\, {\\left(\\frac{{\\left(3 \\, \\pi^{2} n^{2} - 26\\right)} \\left(-1\\right)^{n}}{\\pi^{3} n^{3}} - \\frac{4}{\\pi^{3} n^{3}}\\right)} e^{\\left(-\\pi^{2} \\beta n^{2} t\\right)} \\sin\\left(\\pi n x\\right)}$$"
      ],
      "text/plain": [
       "sum(2*((3*pi^2*n^2 - 26)*(-1)^n/(pi^3*n^3) - 4/(pi^3*n^3))*e^(-pi^2*beta*n^2*t)*sin(pi*n*x), n, 1, +Infinity)"
      ]
     },
     "metadata": {},
     "output_type": "display_data"
    }
   ],
   "source": [
    "# heat flow, ends 0\n",
    "\n",
    "import sage.all as sg\n",
    "\n",
    "n = sg.var('n')\n",
    "x = sg.var('x')\n",
    "t= sg.var('t')\n",
    "\n",
    "beta = sg.var('beta')\n",
    "L = sg.var('L')\n",
    "sg.assume(L > 0)\n",
    "sg.assume(L, 'real')\n",
    "L = 1 \n",
    "\n",
    "a = sg.var('a')\n",
    "b = sg.var('b')\n",
    "sg.assume(a, 'real')\n",
    "sg.assume(b, 'real')\n",
    "sg.assume(a > 0)\n",
    "sg.assume(b > 0)\n",
    "\n",
    "a = -2\n",
    "b = 5\n",
    "#beta = 3\n",
    "\n",
    "sg.assume(n, 'integer')\n",
    "sg.assume(n > 0)\n",
    "\n",
    "sg.assume(t > 0)\n",
    "\n",
    "f = (-a -b *x)*x**2\n",
    "integrand = f * sin((n * pi * x)/L)\n",
    "\n",
    "result = (2/L) * sg.integral(integrand, (x, 0, L)) * e**(-1 * beta * ((pi * n)/L)**2 * t ) * sin((n * pi * x)/L)\n",
    "\n",
    "show(sg.sum(result, n, 1, oo, hold=true))\n",
    "\n"
   ]
  },
  {
   "cell_type": "code",
   "execution_count": 15,
   "id": "2092f398",
   "metadata": {},
   "outputs": [
    {
     "data": {
      "text/html": [
       "<html><script type=\"math/tex; mode=display\">\\newcommand{\\Bold}[1]{\\mathbf{#1}}-\\frac{18}{\\pi} + {\\sum_{k=1}^{+\\infty} \\frac{36 \\, \\cos\\left(2 \\, k x\\right) e^{\\left(-20 \\, k^{2} t\\right)}}{\\pi {\\left(4 \\, k^{2} - 1\\right)}}}</script></html>"
      ],
      "text/latex": [
       "$$\\newcommand{\\Bold}[1]{\\mathbf{#1}}-\\frac{18}{\\pi} + {\\sum_{k=1}^{+\\infty} \\frac{36 \\, \\cos\\left(2 \\, k x\\right) e^{\\left(-20 \\, k^{2} t\\right)}}{\\pi {\\left(4 \\, k^{2} - 1\\right)}}}$$"
      ],
      "text/plain": [
       "-18/pi + sum(36*cos(2*k*x)*e^(-20*k^2*t)/(pi*(4*k^2 - 1)), k, 1, +Infinity)"
      ]
     },
     "metadata": {},
     "output_type": "display_data"
    }
   ],
   "source": [
    "# heat flow, ends insulated\n",
    "import sage.all as sg\n",
    "\n",
    "n = sg.var('n')\n",
    "x = sg.var('x')\n",
    "t= sg.var('t')\n",
    "\n",
    "beta = sg.var('beta')\n",
    "L = pi\n",
    "\n",
    "a = sg.var('a')\n",
    "sg.assume(a, 'real')\n",
    "sg.assume(a > 0)\n",
    "\n",
    "b = sg.var('b')\n",
    "sg.assume(b, 'real')\n",
    "sg.assume(a > 0)\n",
    "\n",
    "a = 0\n",
    "b = 9\n",
    "beta = 5\n",
    "\n",
    "\n",
    "sg.assume(n, 'integer')\n",
    "sg.assume(n > 0)\n",
    "\n",
    "sg.assume(t > 0)\n",
    "\n",
    "f = a - b * sin(x)\n",
    "\n",
    "a0_integrand = f\n",
    "main_integrand = f * cos((n * pi * x)/L)\n",
    "\n",
    "a_0 = (2/L) * sg.integral(a0_integrand, (x, 0, L))\n",
    "\n",
    "result = (2/L) * sg.integral(main_integrand, (x, 0, L)) * e**(-1 * beta * ((pi * n)/L)**2 * t ) * cos((n * pi * x)/L)\n",
    "k = var('k')\n",
    "sg.assume(k > 0)\n",
    "sg.assume(k , 'integer')\n",
    "\n",
    "show(a_0/2 + sg.sum(result.subs(n=2 * k), k, 1, oo, hold=true))\n"
   ]
  },
  {
   "cell_type": "code",
   "execution_count": null,
   "id": "ee6b5d5d",
   "metadata": {},
   "outputs": [],
   "source": []
  },
  {
   "cell_type": "code",
   "execution_count": 146,
   "id": "02f506a2",
   "metadata": {},
   "outputs": [
    {
     "data": {
      "text/html": [
       "<html><script type=\"math/tex; mode=display\">\\newcommand{\\Bold}[1]{\\mathbf{#1}}-4 \\, a {\\left(\\frac{\\left(-1\\right)^{n}}{\\pi^{3} n^{3}} - \\frac{1}{\\pi^{3} n^{3}}\\right)}</script></html>"
      ],
      "text/latex": [
       "$$\\newcommand{\\Bold}[1]{\\mathbf{#1}}-4 \\, a {\\left(\\frac{\\left(-1\\right)^{n}}{\\pi^{3} n^{3}} - \\frac{1}{\\pi^{3} n^{3}}\\right)}$$"
      ],
      "text/plain": [
       "-4*a*((-1)^n/(pi^3*n^3) - 1/(pi^3*n^3))"
      ]
     },
     "metadata": {},
     "output_type": "display_data"
    },
    {
     "data": {
      "text/html": [
       "<html><script type=\"math/tex; mode=display\">\\newcommand{\\Bold}[1]{\\mathbf{#1}}\\frac{1}{\\pi c}</script></html>"
      ],
      "text/latex": [
       "$$\\newcommand{\\Bold}[1]{\\mathbf{#1}}\\frac{1}{\\pi c}$$"
      ],
      "text/plain": [
       "1/(pi*c)"
      ]
     },
     "metadata": {},
     "output_type": "display_data"
    }
   ],
   "source": [
    "# vibrating string\n",
    "\n",
    "import sage.all as sg\n",
    "\n",
    "n = sg.var('n')\n",
    "x = sg.var('x')\n",
    "t= sg.var('t')\n",
    "\n",
    "beta = sg.var('beta')\n",
    "L = sg.var('L')\n",
    "sg.assume(L > 0)\n",
    "sg.assume(L, 'real')\n",
    "L = 1 \n",
    "\n",
    "a = sg.var('a')\n",
    "b = sg.var('b')\n",
    "c = sg.var('c')\n",
    "sg.assume(a, 'real')\n",
    "sg.assume(b, 'real')\n",
    "sg.assume(a > 0)\n",
    "sg.assume(b > 0)\n",
    "sg.assume(c > 0)\n",
    "\n",
    "#a = 2\n",
    "b = 1\n",
    "#c = 9\n",
    "\n",
    "sg.assume(n, 'integer')\n",
    "sg.assume(n > 0)\n",
    "\n",
    "sg.assume(t > 0)\n",
    "\n",
    "f = a*x*(b - x)\n",
    "\n",
    "g = sin(c * pi * x)\n",
    "\n",
    "an_integrand = f * sin((n * pi * x)/L)\n",
    "an = (2/L) * sg.integral(an_integrand, (x, 0, L))\n",
    "show(an)\n",
    "\n",
    "bn = 1  / (c * pi)\n",
    "show(bn)"
   ]
  },
  {
   "cell_type": "code",
   "execution_count": 120,
   "id": "9e8c46ab",
   "metadata": {},
   "outputs": [
    {
     "data": {
      "text/html": [
       "<html><script type=\"math/tex; mode=display\">\\newcommand{\\Bold}[1]{\\mathbf{#1}}5 \\, t x + 3 \\, x</script></html>"
      ],
      "text/latex": [
       "$$\\newcommand{\\Bold}[1]{\\mathbf{#1}}5 \\, t x + 3 \\, x$$"
      ],
      "text/plain": [
       "5*t*x + 3*x"
      ]
     },
     "metadata": {},
     "output_type": "display_data"
    }
   ],
   "source": [
    "# d'almberts\n",
    "\n",
    "x = var('x')\n",
    "s = var('s')\n",
    "f = 3*s\n",
    "g = 5*s\n",
    "alpha = var('alpha')\n",
    "t = var('t')\n",
    "sg.assume(t > 0)\n",
    "\n",
    "solution = (1/2) * ((f.subs(s=x + alpha * t) + f.subs(s=x - alpha * t)) + (1/alpha) * sg.integral(g, (s, x - alpha * t, x + alpha * t)))\n",
    "show(solution)"
   ]
  },
  {
   "cell_type": "code",
   "execution_count": 142,
   "id": "33582c82",
   "metadata": {},
   "outputs": [
    {
     "data": {
      "text/html": [
       "<html><script type=\"math/tex; mode=display\">\\newcommand{\\Bold}[1]{\\mathbf{#1}}\\frac{1}{6} \\, \\pi^{2} a + {\\sum_{n=1}^{+\\infty} -\\frac{a {\\left(\\frac{{\\left(\\pi^{2} n^{2} - 2\\right)} \\left(-1\\right)^{n}}{n^{3}} + \\frac{2}{n^{3}}\\right)} \\sin\\left(n x\\right)}{\\pi} + \\frac{2 \\, \\left(-1\\right)^{n} a \\cos\\left(n x\\right)}{n^{2}}}</script></html>"
      ],
      "text/latex": [
       "$$\\newcommand{\\Bold}[1]{\\mathbf{#1}}\\frac{1}{6} \\, \\pi^{2} a + {\\sum_{n=1}^{+\\infty} -\\frac{a {\\left(\\frac{{\\left(\\pi^{2} n^{2} - 2\\right)} \\left(-1\\right)^{n}}{n^{3}} + \\frac{2}{n^{3}}\\right)} \\sin\\left(n x\\right)}{\\pi} + \\frac{2 \\, \\left(-1\\right)^{n} a \\cos\\left(n x\\right)}{n^{2}}}$$"
      ],
      "text/plain": [
       "1/6*pi^2*a + sum(-a*((pi^2*n^2 - 2)*(-1)^n/n^3 + 2/n^3)*sin(n*x)/pi + 2*(-1)^n*a*cos(n*x)/n^2, n, 1, +Infinity)"
      ]
     },
     "metadata": {},
     "output_type": "display_data"
    }
   ],
   "source": [
    "# piecewise fourier series\n",
    "\n",
    "# f(x) = 0; -pi < x < 0\n",
    "# f(x) = a(x^2); 0 < x < pi\n",
    "\n",
    "x = var('x')\n",
    "a = var('a')\n",
    "L = pi\n",
    "n = var('n')\n",
    "sg.assume(n, 'integer')\n",
    "sg.assume(n > 0)\n",
    "\n",
    "f = a*(x**2)\n",
    "\n",
    "a_0 = (1/pi) * sg.integral(f, (x, 0, L))\n",
    "\n",
    "a_n = (1/pi) * sg.integral(f * cos((n * pi * x)/L), (x, 0, L))\n",
    "\n",
    "b_n = (1/pi) * sg.integral(f * sin((n * pi * x)/L), (x, 0, L))\n",
    "\n",
    "show(a_0/2 + sg.sum(a_n * cos((n * pi * x)/L) + b_n * sin((n * pi * x)/L), n, 1, oo, hold=true))\n",
    "\n"
   ]
  },
  {
   "cell_type": "code",
   "execution_count": 9,
   "id": "c7c814ff",
   "metadata": {},
   "outputs": [
    {
     "data": {
      "text/html": [
       "<html><script type=\"math/tex; mode=display\">\\newcommand{\\Bold}[1]{\\mathbf{#1}}\\pi^{2} + {\\sum_{n=1}^{+\\infty} -\\frac{6 \\, {\\left(\\frac{{\\left(\\pi^{2} n^{2} - 2\\right)} \\left(-1\\right)^{n}}{n^{3}} + \\frac{2}{n^{3}}\\right)} \\sin\\left(n x\\right)}{\\pi} + \\frac{12 \\, \\left(-1\\right)^{n} \\cos\\left(n x\\right)}{n^{2}}}</script></html>"
      ],
      "text/latex": [
       "$$\\newcommand{\\Bold}[1]{\\mathbf{#1}}\\pi^{2} + {\\sum_{n=1}^{+\\infty} -\\frac{6 \\, {\\left(\\frac{{\\left(\\pi^{2} n^{2} - 2\\right)} \\left(-1\\right)^{n}}{n^{3}} + \\frac{2}{n^{3}}\\right)} \\sin\\left(n x\\right)}{\\pi} + \\frac{12 \\, \\left(-1\\right)^{n} \\cos\\left(n x\\right)}{n^{2}}}$$"
      ],
      "text/plain": [
       "pi^2 + sum(-6*((pi^2*n^2 - 2)*(-1)^n/n^3 + 2/n^3)*sin(n*x)/pi + 12*(-1)^n*cos(n*x)/n^2, n, 1, +Infinity)"
      ]
     },
     "metadata": {},
     "output_type": "display_data"
    }
   ],
   "source": [
    "# piecewise fourier series\n",
    "\n",
    "# f(x) = 0; -pi < x < 0\n",
    "# f(x) = a(x^2); 0 < x < pi\n",
    "\n",
    "x = var('x')\n",
    "L = pi\n",
    "n = var('n')\n",
    "sg.assume(n, 'integer')\n",
    "sg.assume(n > 0)\n",
    "\n",
    "a = 6\n",
    "\n",
    "f = a*(x**2)\n",
    "\n",
    "a_0 = (1/pi) * sg.integral(f, (x, 0, L))\n",
    "\n",
    "a_n = (1/pi) * sg.integral(f * cos((n * pi * x)/L), (x, 0, L))\n",
    "\n",
    "b_n = (1/pi) * sg.integral(f * sin((n * pi * x)/L), (x, 0, L))\n",
    "\n",
    "show(a_0/2 + sg.sum(a_n * cos((n * pi * x)/L) + b_n * sin((n * pi * x)/L), n, 1, oo, hold=true))\n",
    "\n"
   ]
  },
  {
   "cell_type": "code",
   "execution_count": null,
   "id": "8f8bd5bf",
   "metadata": {},
   "outputs": [],
   "source": []
  }
 ],
 "metadata": {
  "kernelspec": {
   "display_name": "SageMath 9.5",
   "language": "sage",
   "name": "sagemath"
  },
  "language_info": {
   "codemirror_mode": {
    "name": "ipython",
    "version": 3
   },
   "file_extension": ".py",
   "mimetype": "text/x-python",
   "name": "python",
   "nbconvert_exporter": "python",
   "pygments_lexer": "ipython3",
   "version": "3.10.12"
  }
 },
 "nbformat": 4,
 "nbformat_minor": 5
}
